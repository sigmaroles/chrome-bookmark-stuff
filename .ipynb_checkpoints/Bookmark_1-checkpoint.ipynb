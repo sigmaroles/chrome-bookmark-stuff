{
 "cells": [
  {
   "cell_type": "code",
   "execution_count": 1,
   "metadata": {
    "collapsed": true
   },
   "outputs": [],
   "source": [
    "import json\n",
    "import itertools\n",
    "import datetime"
   ]
  },
  {
   "cell_type": "markdown",
   "metadata": {},
   "source": [
    "### Import the bookmarks file\n",
    "Normally located at %LOCALAPPDATA%\\Google\\Chrome\\User Data\\Default <br>\n",
    "File name is Bookmarks. Make a copy of this file to working directory"
   ]
  },
  {
   "cell_type": "code",
   "execution_count": 2,
   "metadata": {
    "collapsed": true
   },
   "outputs": [],
   "source": [
    "# load the bookmarks file (nested json) into dicts\n",
    "bookmarks = json.load(open('Bookmarks', 'r', encoding='utf8'))"
   ]
  },
  {
   "cell_type": "code",
   "execution_count": 3,
   "metadata": {
    "collapsed": true
   },
   "outputs": [],
   "source": [
    "# function to convert chrome specific timestamp format to Python datetime objects\n",
    "# copied from \n",
    "# https://stackoverflow.com/a/20306973/8086413\n",
    "\n",
    "def getFiletime(dtms):\n",
    "  seconds, micros = divmod(dtms, 1000000)\n",
    "  days, seconds = divmod(seconds, 86400)\n",
    "\n",
    "  return datetime.datetime(1601, 1, 1) + datetime.timedelta(days, seconds, micros)"
   ]
  },
  {
   "cell_type": "code",
   "execution_count": 4,
   "metadata": {
    "collapsed": true
   },
   "outputs": [],
   "source": [
    "# This function reads the nested dict structure obtained from json.load() and creates a generator that yields a \n",
    "# bookmark item in each iteration. \n",
    "# Each returned item is a dict, with keys as follows:\n",
    "# []'date_added', 'id', 'meta_info', 'name', 'type', 'url']\n",
    "# meta_info is another dict with keys (possibly empty):\n",
    "# []'last_visited_desktop']\n",
    "def bookmark_iterator(json_obj):\n",
    "    bm_root = json_obj['roots']['bookmark_bar']['children']\n",
    "    stack = []\n",
    "    stack.append(bm_root)\n",
    "    while stack:\n",
    "        folder = stack[0]\n",
    "        stack = stack[1:]\n",
    "        for item in folder:\n",
    "            if item['type'] == 'url':\n",
    "                yield (item)\n",
    "            elif item['type'] == 'folder':\n",
    "                stack.append(item[\"children\"])"
   ]
  },
  {
   "cell_type": "code",
   "execution_count": 5,
   "metadata": {
    "collapsed": true
   },
   "outputs": [],
   "source": [
    "# get all urls with their dates (when added)\n",
    "dateurls = [(getFiletime(int(item['date_added'])), item['url'], item[\"name\"]) for item in bookmark_iterator(bookmarks)]"
   ]
  },
  {
   "cell_type": "code",
   "execution_count": 6,
   "metadata": {
    "collapsed": true
   },
   "outputs": [],
   "source": [
    "# sort all dates by date\n",
    "# this removes all folder wise ordering and creates one big list of urls, sorted by added date\n",
    "sorted_dateurls = sorted(dateurls)"
   ]
  },
  {
   "cell_type": "markdown",
   "metadata": {},
   "source": [
    "### Done loading\n",
    "Many things can be done. We're simply dumping to a html file"
   ]
  },
  {
   "cell_type": "code",
   "execution_count": 10,
   "metadata": {
    "collapsed": true
   },
   "outputs": [],
   "source": [
    "BEGIN_LINK = \"<a href = \\\"\"\n",
    "MID_LINK = \"\\\">\"\n",
    "END_LINK = \"</a>\"\n",
    "LINEBREAK = \"<br>\\n\"\n",
    "TIMEFORMAT = \"  {:%H-%M-%S}  \"\n",
    "with open('YT_Bookmarks_sorted.html', 'w', encoding='utf8') as ofh:\n",
    "    durl = sorted_dateurls[0]\n",
    "    checkpoint_date = datetime.datetime(durl[0].year, durl[0].month, durl[0].day)\n",
    "    for durl in sorted_dateurls:\n",
    "        if 'youtube' in durl[1]:\n",
    "            curr_date = datetime.datetime(durl[0].year, durl[0].month, durl[0].day)\n",
    "            if curr_date > checkpoint_date:\n",
    "                ofh.write(\"<br><br> {:%A %B %d, %Y}\".format(curr_date) + LINEBREAK)\n",
    "                checkpoint_date = curr_date\n",
    "            ofh.write(TIMEFORMAT.format(durl[0]) + BEGIN_LINK + durl[1] + MID_LINK + durl[2] + END_LINK + LINEBREAK)"
   ]
  },
  {
   "cell_type": "code",
   "execution_count": 9,
   "metadata": {
    "collapsed": true
   },
   "outputs": [],
   "source": [
    "BEGIN_LINK = \"<a href = \\\"\"\n",
    "MID_LINK = \"\\\">\"\n",
    "END_LINK = \"</a>\"\n",
    "LINEBREAK = \"<br>\\n\"\n",
    "TIMEFORMAT = \"  {:%H-%M-%S}  \"\n",
    "with open('ALL_Bookmarks_sorted.html', 'w', encoding='utf8') as ofh:\n",
    "    durl = sorted_dateurls[0]\n",
    "    checkpoint_date = datetime.datetime(durl[0].year, durl[0].month, durl[0].day)\n",
    "    for durl in sorted_dateurls:\n",
    "        curr_date = datetime.datetime(durl[0].year, durl[0].month, durl[0].day)\n",
    "        if curr_date > checkpoint_date:\n",
    "            ofh.write(\"<br><br> {:%A %B %d, %Y}\".format(curr_date) + LINEBREAK)\n",
    "            checkpoint_date = curr_date\n",
    "        ofh.write(TIMEFORMAT.format(durl[0]) + BEGIN_LINK + durl[1] + MID_LINK + durl[2] + END_LINK + LINEBREAK)"
   ]
  },
  {
   "cell_type": "code",
   "execution_count": null,
   "metadata": {
    "collapsed": true
   },
   "outputs": [],
   "source": []
  }
 ],
 "metadata": {
  "kernelspec": {
   "display_name": "Python 3",
   "language": "python",
   "name": "python3"
  },
  "language_info": {
   "codemirror_mode": {
    "name": "ipython",
    "version": 3
   },
   "file_extension": ".py",
   "mimetype": "text/x-python",
   "name": "python",
   "nbconvert_exporter": "python",
   "pygments_lexer": "ipython3",
   "version": "3.5.3"
  }
 },
 "nbformat": 4,
 "nbformat_minor": 2
}
